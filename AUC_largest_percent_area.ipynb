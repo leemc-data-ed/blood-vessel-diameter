{
 "cells": [
  {
   "cell_type": "code",
   "execution_count": null,
   "metadata": {
    "scrolled": false
   },
   "outputs": [],
   "source": [
    "import pandas as pd\n",
    "import numpy as np\n",
    "import re\n",
    "\n",
    "#read in excel raw data for all conditions- \"FILE PATH\" is a placeholder to be edited by the user\n",
    "fname = \"FILE PATH\"\n",
    "auc_df = pd.read_excel(fname)\n",
    "\n",
    "auc_df"
   ]
  },
  {
   "cell_type": "code",
   "execution_count": null,
   "metadata": {},
   "outputs": [],
   "source": [
    "#Transpose dataframes so that the lines are the rows and the measurements are columns \n",
    "auc_trans = auc_df.set_index('Unnamed: 0').transpose()\n",
    "auc_trans\n",
    "\n",
    "#Drop unnecessary columns\n",
    "auc_PA = auc_trans['%Area']\n",
    "num_peaks = auc_trans['Number of Peaks']\n",
    "\n",
    "\n",
    "#Find the largest % area peak in each line\n",
    "peaks = np.arange(1, num_peaks.max()+1, 1).astype(int).tolist()\n",
    "auc_PA.columns = peaks\n",
    "auc_PA.fillna(value = 0, inplace = True)\n",
    "auc_PA['Max % Area'] = auc_PA.max(axis=1)\n",
    "auc_PA['Max Peak'] = auc_PA.idxmax(axis=1).astype(int)\n",
    "\n",
    "auc_PA\n"
   ]
  },
  {
   "cell_type": "code",
   "execution_count": null,
   "metadata": {},
   "outputs": [],
   "source": [
    "#Test if peak largest % area peak and largest area peak are the same\n",
    "auc_area = auc_trans['Area']\n",
    "auc_area.columns = peaks\n",
    "auc_area.fillna(value = 0, inplace = True)\n",
    "auc_area['Max Area'] = auc_area.max(axis=1)\n",
    "auc_area['Max Peak'] = auc_area.idxmax(axis=1).astype(int)\n",
    "\n",
    "test = auc_PA['Max Peak'] == auc_area['Max Peak']\n",
    "False in test"
   ]
  },
  {
   "cell_type": "code",
   "execution_count": null,
   "metadata": {
    "scrolled": false
   },
   "outputs": [],
   "source": [
    "#Add max peaks to the dataframes with the rest of the data\n",
    "auc_peaks = auc_trans.drop(columns=['Baseline', 'Total Area', 'Total Peak Area', 'Number of Peaks']).dropna(axis = 'columns', how = 'all')\n",
    "#auc_peaks['Max % Area'] = auc_PA['Max % Area']\n",
    "auc_peaks['Max Peak'] = auc_PA['Max Peak']\n",
    "auc_peaks"
   ]
  },
  {
   "cell_type": "code",
   "execution_count": null,
   "metadata": {},
   "outputs": [],
   "source": [
    "#Deal with duplicate column names\n",
    "peak_str = [str(i) for i in peaks]\n",
    "peak_str\n",
    "f = ['First X_' + sub for sub in peak_str]\n",
    "l = ['Last X_' + sub for sub in peak_str]\n",
    "px = ['Peak X_' + sub for sub in peak_str]\n",
    "py = ['Peak Y_' + sub for sub in peak_str]\n",
    "a = ['Area_' + sub for sub in peak_str]\n",
    "pa = ['%Area_' + sub for sub in peak_str]\n",
    "\n",
    "f_col = {'First X' : f}\n",
    "l_col = {'Last X' : l}\n",
    "px_col = {'Peak X' : px}\n",
    "py_col = {'Peak Y' : py}\n",
    "a_col = {'Area' : a}\n",
    "pa_col = {'%Area' : pa}\n",
    "\n",
    "auc_peaks.rename(columns=lambda c: f_col[c].pop(0) if c in f_col.keys() else c, inplace=True)\n",
    "auc_peaks.rename(columns=lambda c: l_col[c].pop(0) if c in l_col.keys() else c, inplace=True)\n",
    "auc_peaks.rename(columns=lambda c: px_col[c].pop(0) if c in px_col.keys() else c, inplace=True)\n",
    "auc_peaks.rename(columns=lambda c: py_col[c].pop(0) if c in py_col.keys() else c, inplace=True)\n",
    "auc_peaks.rename(columns=lambda c: a_col[c].pop(0) if c in a_col.keys() else c, inplace=True)\n",
    "auc_peaks.rename(columns=lambda c: pa_col[c].pop(0) if c in pa_col.keys() else c, inplace=True)\n",
    "\n",
    "auc_peaks"
   ]
  },
  {
   "cell_type": "code",
   "execution_count": null,
   "metadata": {},
   "outputs": [],
   "source": [
    "#Cycle through lines to get a dataframe with only max peak data, searching for numbers that match max peak\n",
    "c = -1\n",
    "new_columns = ['First X', 'Last X', 'Peak X', 'Peak Y', 'Area', '%Area', 'Peak']\n",
    "max_peak_df = pd.DataFrame(columns = new_columns)\n",
    "for p in auc_peaks['Max Peak']:\n",
    "    m = []\n",
    "    c += 1\n",
    "    line = auc_peaks.index[c]\n",
    "    for i in auc_peaks.columns:\n",
    "        match = re.findall('.*_' + str(p) + '$', i)\n",
    "        match_to_string = ''.join(map(str, match))\n",
    "        if not match_to_string:\n",
    "            pass\n",
    "        else:\n",
    "            m.append(match_to_string)\n",
    "    line_max_peak = auc_peaks.loc[line, m]\n",
    "    max_peak_df_small = pd.DataFrame(line_max_peak).transpose()\n",
    "    max_peak_df_small['Peak'] = p\n",
    "    max_peak_df_small.columns = new_columns\n",
    "    max_peak_df = max_peak_df.append(max_peak_df_small)\n",
    "max_peak_df\n",
    "max_peak_df.to_csv('FILE NAME') #\"FILE NAME\" is a placeholder to be edited by the user"
   ]
  },
  {
   "cell_type": "code",
   "execution_count": null,
   "metadata": {},
   "outputs": [],
   "source": []
  }
 ],
 "metadata": {
  "kernelspec": {
   "display_name": "Python 3",
   "language": "python",
   "name": "python3"
  },
  "language_info": {
   "codemirror_mode": {
    "name": "ipython",
    "version": 3
   },
   "file_extension": ".py",
   "mimetype": "text/x-python",
   "name": "python",
   "nbconvert_exporter": "python",
   "pygments_lexer": "ipython3",
   "version": "3.8.11"
  }
 },
 "nbformat": 4,
 "nbformat_minor": 4
}
