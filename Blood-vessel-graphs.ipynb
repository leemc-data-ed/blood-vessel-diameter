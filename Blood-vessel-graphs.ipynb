{
 "cells": [
  {
   "cell_type": "code",
   "execution_count": null,
   "metadata": {},
   "outputs": [],
   "source": [
    "import pandas as pd\n",
    "import numpy as np\n",
    "import matplotlib.pyplot as plt\n",
    "import re\n",
    "\n",
    "#read in excel raw data- \"FILE PATH\" is a placeholder to be edited by the user \n",
    "fname = \"FILE PATH\"\n",
    "bv_df = pd.read_excel(fname)\n",
    "\n",
    "#create column names and time labels\n",
    "#Need to make sure that names+time labels are the same width as dataframe\n",
    "labels = ['File loc', 'File name', 'Stim frame', 'Frame rate', 'Threshold method', 'Ave. baseline']\n",
    "x = len(bv_df.columns)\n",
    "time = list(range(-3,x-9))\n",
    "col_labels = labels + time\n",
    "bv_df.columns = col_labels\n",
    "\n",
    "#create smaller dataframe with data to graph\n",
    "bv_reduced = bv_df.drop(columns=['File loc', 'Stim frame', 'Frame rate', 'Threshold method', 'Ave. baseline'])\n",
    "#bv_reduced['File name']\n",
    "#print (bv_reduced)"
   ]
  },
  {
   "cell_type": "code",
   "execution_count": null,
   "metadata": {},
   "outputs": [],
   "source": [
    "#iterate through the file names and extract the pulse\n",
    "pulse = []\n",
    "line = []\n",
    "for f in bv_reduced['File name']:\n",
    "    p = re.findall('^[0-9]*[_-][0-9]*[a-z]*[0-9]*', f)\n",
    "    p_to_str = ''.join(map(str, p))\n",
    "    pulse.append(p_to_str)\n",
    "    #print(p)\n",
    "    l = f[-5]\n",
    "    line.append(l)"
   ]
  },
  {
   "cell_type": "code",
   "execution_count": null,
   "metadata": {},
   "outputs": [],
   "source": [
    "#Add extracted pulse and line to dataframe\n",
    "bv_reduced['Pulse'] = pulse\n",
    "bv_reduced['Line'] = line\n",
    "#bv_reduced\n",
    "#set pulse and file name as the hierarchical index\n",
    "bv_reduced.set_index('Pulse', inplace=True)\n",
    "bv_time = bv_reduced.drop(columns = ['File name', 'Line']).transpose()\n",
    "bv_time = bv_reduced.drop(columns = 'File name')\n",
    "pd.options.display.max_rows = 500\n",
    "#bv_time.head()\n",
    "bv_time\n",
    "#bv_time.index.unique()"
   ]
  },
  {
   "cell_type": "code",
   "execution_count": null,
   "metadata": {
    "scrolled": false
   },
   "outputs": [],
   "source": [
    "pulses = bv_time.index.unique()\n",
    "for p in pulses:\n",
    "    bv_subset = bv_time.loc[p]\n",
    "    bv_subset.set_index('Line', inplace=True)\n",
    "    bv_subset_trans = bv_subset.transpose()\n",
    "    #print(bv_subset_trans)\n",
    "    # plot\n",
    "    bv_subset_trans.plot(figsize=(10,5), xlim=(-3,120), fontsize=12)\n",
    "    plt.legend(fontsize='large', title='Line', title_fontsize=12)\n",
    "    plt.title(label=p, fontsize=16)\n",
    "    plt.minorticks_on()\n",
    "    plt.xlabel('Time (sec)', fontsize=14)\n",
    "    plt.ylabel('Width', fontsize=14)\n",
    "    figname = p + '.png'\n",
    "    plt.savefig(figname)\n",
    "    #print(figname)\n",
    "    plt.show() "
   ]
  },
  {
   "cell_type": "code",
   "execution_count": null,
   "metadata": {},
   "outputs": [],
   "source": []
  }
 ],
 "metadata": {
  "kernelspec": {
   "display_name": "Python 3",
   "language": "python",
   "name": "python3"
  },
  "language_info": {
   "codemirror_mode": {
    "name": "ipython",
    "version": 3
   },
   "file_extension": ".py",
   "mimetype": "text/x-python",
   "name": "python",
   "nbconvert_exporter": "python",
   "pygments_lexer": "ipython3",
   "version": "3.8.11"
  }
 },
 "nbformat": 4,
 "nbformat_minor": 4
}
